{
 "cells": [
  {
   "cell_type": "code",
   "metadata": {
    "ExecuteTime": {
     "end_time": "2024-11-07T10:38:20.438949Z",
     "start_time": "2024-11-07T10:38:14.855903Z"
    }
   },
   "source": [
    "from PIL import Image\n",
    "from torchvision import transforms\n",
    "from torch.utils.tensorboard import SummaryWriter"
   ],
   "outputs": [],
   "execution_count": 1
  },
  {
   "cell_type": "code",
   "metadata": {
    "ExecuteTime": {
     "end_time": "2024-11-07T10:38:22.592343Z",
     "start_time": "2024-11-07T10:38:22.573749Z"
    }
   },
   "source": [
    "writer=SummaryWriter(\"logs\") \n",
    "img = Image.open(\"..\\data\\\\train\\\\bees_image\\\\16838648_415acd9e3f.jpg\")"
   ],
   "outputs": [],
   "execution_count": 2
  },
  {
   "cell_type": "markdown",
   "metadata": {},
   "source": [
    "### 注意每个函数的输入输出类型\n",
    "### 查看官方文档，transform.py中的函数解释与使用方法\n",
    "### 关注方法需要什么参数，返回什么类型的数据，可以用 print(type()) 打印出来查看"
   ]
  },
  {
   "cell_type": "code",
   "metadata": {
    "ExecuteTime": {
     "end_time": "2024-11-07T10:38:24.108213Z",
     "start_time": "2024-11-07T10:38:23.970055Z"
    }
   },
   "source": [
    "# totensor使用，将PIL.Image转换为torch.Tensor\n",
    "trans_totensor = transforms.ToTensor()\n",
    "img_totensor = trans_totensor(img)\n",
    "writer.add_image(\"Totensor\", img_totensor)\n",
    "writer.close()"
   ],
   "outputs": [],
   "execution_count": 3
  },
  {
   "cell_type": "code",
   "metadata": {
    "ExecuteTime": {
     "end_time": "2024-11-07T10:38:25.642489Z",
     "start_time": "2024-11-07T10:38:25.552403Z"
    }
   },
   "source": [
    "# Normalize使用，进行归一化\n",
    "print(img_totensor[1][0][1])\n",
    "trans_norm = transforms.Normalize([0.5, 0.5, 0.5], [0.5, 0.5, 0.5])\n",
    "# 归一化计算公式：input[channel] = (input[channel] - mean[channel]) / std[channel]\n",
    "# 例如：input[channel] = (input[channel] - 0.5) / 0.5 = 2 * input[channel] - 1\n",
    "# 若input[channel] ∈ [0, 1]，则归一化后input[channel] ∈ [-1, 1]\n",
    "img_norm = trans_norm(img_totensor)\n",
    "print(img_norm[0][0][0])\n",
    "\n",
    "writer.add_image(\"Normalize\", img_norm)\n",
    "writer.close()"
   ],
   "outputs": [
    {
     "name": "stdout",
     "output_type": "stream",
     "text": [
      "tensor(0.0667)\n",
      "tensor(-0.8039)\n"
     ]
    }
   ],
   "execution_count": 4
  },
  {
   "cell_type": "code",
   "metadata": {
    "ExecuteTime": {
     "end_time": "2024-11-07T10:38:27.895875Z",
     "start_time": "2024-11-07T10:38:27.855563Z"
    }
   },
   "source": [
    "# Resize使用，进行缩放\n",
    "print(img.size)\n",
    "trans_resize = transforms.Resize((112, 512))\n",
    "# img PIL ->resize-> img_resize PIL\n",
    "img_resize = trans_resize(img)\n",
    "# img_resize PIL ->totensor-> img_resize torch.Tensor 数据类型\n",
    "img_resize = trans_totensor(img_resize)\n",
    "writer.add_image(\"Resize\", img_resize,0)\n"
   ],
   "outputs": [
    {
     "name": "stdout",
     "output_type": "stream",
     "text": [
      "(500, 450)\n"
     ]
    }
   ],
   "execution_count": 5
  },
  {
   "cell_type": "markdown",
   "metadata": {},
   "source": [
    "### compose 用法\n",
    "transforms.Compose() 是 PyTorch 提供的一个简单实用的工具。它允许将多个图像变换操作组成一个序列，从而简化图像预处理流水线。transforms.Compose() 接受一个变换列表，并返回一个新的、组合后的变换。 这特别适合在处理图像时，需要链式应用多个变换操作的场景。\n"
   ]
  },
  {
   "cell_type": "code",
   "metadata": {
    "ExecuteTime": {
     "end_time": "2024-11-07T10:38:34.706672Z",
     "start_time": "2024-11-07T10:38:34.528711Z"
    }
   },
   "source": [
    "# Compose -resize - 2\n",
    "# 等比例缩放，长宽比不变\n",
    "trans_resize_2 = transforms.Resize(512)\n",
    "# Compose参数是一个列表，列表中的元素是transforms类型\n",
    "# PIL ->resize-> PIL ->totensor-> torch.Tensor\n",
    "trans_compose = transforms.Compose([trans_resize_2, trans_totensor])\n",
    "img_resize_2 = trans_compose(img)\n",
    "writer.add_image(\"Resize\", img_resize_2,1)\n",
    "writer.close()"
   ],
   "outputs": [],
   "execution_count": 6
  },
  {
   "cell_type": "code",
   "metadata": {
    "ExecuteTime": {
     "end_time": "2024-11-07T10:38:35.914141Z",
     "start_time": "2024-11-07T10:38:35.706180Z"
    }
   },
   "source": [
    "# RandomResizedCrop使用，随机裁剪并缩放\n",
    "trans_random = transforms.RandomCrop(200)\n",
    "trans_compose_2 = transforms.Compose([trans_random,trans_totensor])\n",
    "for i in range(10):\n",
    "    img_crop =  trans_compose_2(img)\n",
    "    writer.add_image(\"RandomCrop\", img_crop,i)\n",
    "\n",
    "writer.close()"
   ],
   "outputs": [],
   "execution_count": 7
  }
 ],
 "metadata": {
  "kernelspec": {
   "display_name": "lzqpytorch",
   "language": "python",
   "name": "python3"
  },
  "language_info": {
   "codemirror_mode": {
    "name": "ipython",
    "version": 3
   },
   "file_extension": ".py",
   "mimetype": "text/x-python",
   "name": "python",
   "nbconvert_exporter": "python",
   "pygments_lexer": "ipython3",
   "version": "3.11.8"
  }
 },
 "nbformat": 4,
 "nbformat_minor": 2
}
