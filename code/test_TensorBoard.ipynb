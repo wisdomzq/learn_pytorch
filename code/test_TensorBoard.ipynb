{
 "cells": [
  {
   "cell_type": "code",
   "execution_count": 31,
   "metadata": {},
   "outputs": [],
   "source": [
    "from torch.utils.tensorboard import SummaryWriter\n",
    "import numpy as np\n",
    "from PIL import Image"
   ]
  },
  {
   "cell_type": "code",
   "execution_count": 37,
   "metadata": {},
   "outputs": [
    {
     "name": "stdout",
     "output_type": "stream",
     "text": [
      "img_array.shape (450, 500, 3)\n"
     ]
    }
   ],
   "source": [
    "writer = SummaryWriter(\"logs\")\n",
    "image_path=\"..\\data\\\\train\\\\bees_image\\\\16838648_415acd9e3f.jpg\"\n",
    "img_PIL = Image.open(image_path)\n",
    "img_array = np.array(img_PIL) \n",
    "# 注意tensorboard要求的图片数据类型是torch.ternsor 或者是 numpy.array, PIL.Image类型不行\n",
    "# 需要进行转换\n",
    "\n",
    "writer.add_image(\"test\", img_array , 2 ,dataformats=\"HWC\")\n",
    "print(\"img_array.shape\",img_array.shape)\n"
   ]
  },
  {
   "cell_type": "markdown",
   "metadata": {},
   "source": [
    "##### 运行tensorboard \n",
    "进入anaconda prompt 进入代码对应的文件夹下（用cd指令）\n",
    "输入 tensorboard --logdir=logs (--port=????)\n",
    "\n",
    " *\"????\"可以用来指定生成的端口，避免与其他人公用时重复*"
   ]
  },
  {
   "cell_type": "code",
   "execution_count": null,
   "metadata": {},
   "outputs": [],
   "source": [
    "for i in range(100):\n",
    "    writer.add_scalar(\"y=2x\", 2*i , i)\n",
    "\n",
    "writer.close()"
   ]
  }
 ],
 "metadata": {
  "kernelspec": {
   "display_name": "lzqpytorch",
   "language": "python",
   "name": "python3"
  },
  "language_info": {
   "codemirror_mode": {
    "name": "ipython",
    "version": 3
   },
   "file_extension": ".py",
   "mimetype": "text/x-python",
   "name": "python",
   "nbconvert_exporter": "python",
   "pygments_lexer": "ipython3",
   "version": "3.11.8"
  }
 },
 "nbformat": 4,
 "nbformat_minor": 2
}
