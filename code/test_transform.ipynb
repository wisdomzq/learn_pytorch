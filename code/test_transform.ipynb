{
 "cells": [
  {
   "cell_type": "code",
   "execution_count": 3,
   "metadata": {},
   "outputs": [],
   "source": [
    "from torchvision import transforms\n",
    "from PIL import Image\n",
    "from torch.utils.tensorboard import SummaryWriter"
   ]
  },
  {
   "cell_type": "markdown",
   "metadata": {},
   "source": [
    "### transformer 使用\n",
    "图片 → transforms.py工具箱，使用其中的模板工具 如totensor,resize，创建具体工具，例如transforms.Totensor(),使用这个工具， 给他输入，得到结果 result=tool（input）"
   ]
  },
  {
   "cell_type": "code",
   "execution_count": null,
   "metadata": {},
   "outputs": [],
   "source": [
    "image_path=\"..\\data\\\\train\\\\bees_image\\\\16838648_415acd9e3f.jpg\"\n",
    "img = Image.open(image_path)\n",
    "\n",
    "writer = SummaryWriter(\"logs\")\n",
    "\n",
    "\n",
    "# 使用transforms.ToTensor()将PIL图像转换为PyTorch张量\n",
    "tensor_trans=transforms.ToTensor()\n",
    "tensor_img = tensor_trans(img)\n",
    "\n",
    "writer.add_image(\"Tensor_img\", tensor_img)\n",
    "writer.close()"
   ]
  },
  {
   "cell_type": "code",
   "execution_count": null,
   "metadata": {},
   "outputs": [],
   "source": []
  }
 ],
 "metadata": {
  "kernelspec": {
   "display_name": "lzqpytorch",
   "language": "python",
   "name": "python3"
  },
  "language_info": {
   "codemirror_mode": {
    "name": "ipython",
    "version": 3
   },
   "file_extension": ".py",
   "mimetype": "text/x-python",
   "name": "python",
   "nbconvert_exporter": "python",
   "pygments_lexer": "ipython3",
   "version": "3.11.8"
  }
 },
 "nbformat": 4,
 "nbformat_minor": 2
}
