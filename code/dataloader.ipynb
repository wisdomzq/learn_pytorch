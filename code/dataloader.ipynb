{
 "cells": [
  {
   "cell_type": "markdown",
   "metadata": {},
   "source": [
    "dataloader 作用是从dataset中加载数据，然后将数据传递给模型进行训练。\n",
    "\n",
    "加载数据的方式有多种，比如随机采样、顺序采样、重复采样等。\n"
   ]
  },
  {
   "cell_type": "code",
   "metadata": {
    "vscode": {
     "languageId": "plaintext"
    },
    "ExecuteTime": {
     "end_time": "2024-11-12T15:31:15.879986Z",
     "start_time": "2024-11-12T15:31:08.723337Z"
    }
   },
   "source": [
    "import torchvision\n",
    "from torch.utils.tensorboard import SummaryWriter\n",
    "from torch.utils.data import DataLoader"
   ],
   "outputs": [],
   "execution_count": 2
  },
  {
   "metadata": {
    "ExecuteTime": {
     "end_time": "2024-11-12T15:31:22.967445Z",
     "start_time": "2024-11-12T15:31:22.483312Z"
    }
   },
   "cell_type": "code",
   "source": [
    "# 准备的测试数据集\n",
    "test_data = torchvision.datasets.CIFAR10(\"./dataset\", train=False, transform=torchvision.transforms.ToTensor(), download=True)\n",
    "\n",
    "test_loader = DataLoader(dataset=test_data, batch_size=64, shuffle=True, num_workers=0, drop_last=False)\n",
    "# batch_size: 每个batch的大小,取4个样本进行打包训练\n",
    "\n",
    "# 测试数据集中第一张图片及target\n",
    "img, target =test_data[0]\n",
    "print(img.shape)\n",
    "print(target)"
   ],
   "outputs": [
    {
     "name": "stdout",
     "output_type": "stream",
     "text": [
      "Files already downloaded and verified\n",
      "torch.Size([3, 32, 32])\n",
      "3\n"
     ]
    }
   ],
   "execution_count": 3
  },
  {
   "metadata": {},
   "cell_type": "markdown",
   "source": [
    "dataloader 定义batch_size=4 ，即把dataset的getitem()返回的数据打包成一个batch，每个batch包含4个样本。\n",
    "\n",
    "将img0\\~img3打包成一个batch，target0~target3打包成一个batch，这两个batch就是dataloader返回的数据。"
   ]
  },
  {
   "metadata": {
    "ExecuteTime": {
     "end_time": "2024-11-12T15:34:03.235469Z",
     "start_time": "2024-11-12T15:33:58.672413Z"
    }
   },
   "cell_type": "code",
   "source": [
    "writer = SummaryWriter(\"dataloader\")\n",
    "step = 0\n",
    "for data in test_loader:\n",
    "    imgs, targets = data\n",
    "    # print(imgs.shape)\n",
    "    # print(targets)\n",
    "    writer.add_images(\"test_data\",imgs,step)\n",
    "    step = step + 1\n",
    "    \n",
    "writer.close()"
   ],
   "outputs": [],
   "execution_count": 5
  },
  {
   "metadata": {},
   "cell_type": "code",
   "outputs": [],
   "execution_count": null,
   "source": ""
  }
 ],
 "metadata": {
  "language_info": {
   "name": "python"
  },
  "kernelspec": {
   "name": "python3",
   "language": "python",
   "display_name": "Python 3 (ipykernel)"
  }
 },
 "nbformat": 4,
 "nbformat_minor": 2
}
