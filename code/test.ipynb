{
 "cells": [
  {
   "metadata": {},
   "cell_type": "markdown",
   "source": [
    "\n",
    "## 进行模型验证\n",
    "利用已经训练好的模型，提供输入，得到输出，然后与标签进行比较，得到准确率\n"
   ],
   "id": "c7b5dfda7c469b9"
  },
  {
   "metadata": {
    "ExecuteTime": {
     "end_time": "2024-11-27T16:16:03.368594Z",
     "start_time": "2024-11-27T16:16:03.364786Z"
    }
   },
   "cell_type": "code",
   "source": [
    "import torch\n",
    "from torch import nn\n",
    "from PIL import Image\n",
    "import torchvision\n",
    "\n",
    "class Wisdom(nn.Module):\n",
    "    def __init__(self):\n",
    "        super(Wisdom, self).__init__()\n",
    "        self.model = nn.Sequential(\n",
    "            nn.Conv2d(3, 32, 5, padding=2),\n",
    "            nn.MaxPool2d(2),\n",
    "            nn.Conv2d(32, 32, 5, padding=2),\n",
    "            nn.MaxPool2d(2),\n",
    "            nn.Conv2d(32, 64, 5, padding=2),\n",
    "            nn.MaxPool2d(2),\n",
    "            nn.Flatten(),\n",
    "            nn.Linear(64 * 4 * 4, 64),\n",
    "            nn.Linear(64, 10)\n",
    "        )\n",
    "\n",
    "    def forward(self, x):\n",
    "        return self.model(x)"
   ],
   "id": "23c4d41b06ea8432",
   "outputs": [],
   "execution_count": 5
  },
  {
   "metadata": {
    "ExecuteTime": {
     "end_time": "2024-11-27T16:22:45.386922Z",
     "start_time": "2024-11-27T16:22:45.369950Z"
    }
   },
   "cell_type": "code",
   "source": [
    "image_path = \"../data/train/bees_image/16838648_415acd9e3f.jpg\"\n",
    "image = Image.open(image_path)\n",
    "\n",
    "transform = torchvision.transforms.Compose([torchvision.transforms.Resize((32,32)), torchvision.transforms.ToTensor()])\n",
    "\n",
    "image = transform(image)\n",
    "print(image.shape)\n",
    "\n",
    "model = torch.load(\"wisdom_9.pth\")\n",
    "# model = torch.load(\"wisdom_9.pth\", map_location=torch.device('cpu')) 在cpu上加载模型\n",
    "print(model)\n",
    "image = torch.reshape(image, (1, 3, 32, 32)) # 1张图片，3通道，32*32大小\n",
    "# image = image.convert(\"RGB\") png图片转换为RGB\n",
    "image = image.cuda()\n",
    "model.eval()\n",
    "with torch.no_grad():\n",
    "    output = model(image)\n",
    "    print(output.argmax(1))"
   ],
   "id": "11e9f5ab79b62067",
   "outputs": [
    {
     "name": "stdout",
     "output_type": "stream",
     "text": [
      "torch.Size([3, 32, 32])\n",
      "Wisdom(\n",
      "  (model): Sequential(\n",
      "    (0): Conv2d(3, 32, kernel_size=(5, 5), stride=(1, 1), padding=(2, 2))\n",
      "    (1): MaxPool2d(kernel_size=2, stride=2, padding=0, dilation=1, ceil_mode=False)\n",
      "    (2): Conv2d(32, 32, kernel_size=(5, 5), stride=(1, 1), padding=(2, 2))\n",
      "    (3): MaxPool2d(kernel_size=2, stride=2, padding=0, dilation=1, ceil_mode=False)\n",
      "    (4): Conv2d(32, 64, kernel_size=(5, 5), stride=(1, 1), padding=(2, 2))\n",
      "    (5): MaxPool2d(kernel_size=2, stride=2, padding=0, dilation=1, ceil_mode=False)\n",
      "    (6): Flatten(start_dim=1, end_dim=-1)\n",
      "    (7): Linear(in_features=1024, out_features=64, bias=True)\n",
      "    (8): Linear(in_features=64, out_features=10, bias=True)\n",
      "  )\n",
      ")\n",
      "tensor([6], device='cuda:0')\n"
     ]
    }
   ],
   "execution_count": 14
  }
 ],
 "metadata": {
  "kernelspec": {
   "name": "python3",
   "language": "python",
   "display_name": "Python 3 (ipykernel)"
  }
 },
 "nbformat": 5,
 "nbformat_minor": 9
}
